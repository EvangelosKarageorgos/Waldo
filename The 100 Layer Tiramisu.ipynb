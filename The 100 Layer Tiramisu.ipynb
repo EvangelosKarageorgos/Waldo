{
 "cells": [
  {
   "cell_type": "code",
   "execution_count": null,
   "metadata": {
    "scrolled": true
   },
   "outputs": [],
   "source": [
    "%matplotlib inline\n",
    "import importlib\n",
    "import utils2; importlib.reload(utils2)\n",
    "from utils2 import *"
   ]
  },
  {
   "cell_type": "code",
   "execution_count": null,
   "metadata": {},
   "outputs": [],
   "source": [
    "path = './'"
   ]
  },
  {
   "cell_type": "code",
   "execution_count": null,
   "metadata": {},
   "outputs": [],
   "source": [
    "images_path = path + 'images/'\n",
    "labels_path = path + 'labels/'"
   ]
  },
  {
   "cell_type": "code",
   "execution_count": null,
   "metadata": {},
   "outputs": [],
   "source": [
    "images = glob.glob(images_path + '*.png')\n",
    "print (images[:3])\n",
    "\n",
    "labels = [labels_path + os.path.basename(i)[:-4] + '_L.png' for i in images]\n",
    "print (labels[:3])"
   ]
  },
  {
   "cell_type": "code",
   "execution_count": null,
   "metadata": {},
   "outputs": [],
   "source": [
    "image_size = (480,360)"
   ]
  },
  {
   "cell_type": "code",
   "execution_count": null,
   "metadata": {},
   "outputs": [],
   "source": [
    "def open_image(img):\n",
    "    return np.array(Image.open(img).resize(image_size, Image.NEAREST))"
   ]
  },
  {
   "cell_type": "code",
   "execution_count": null,
   "metadata": {},
   "outputs": [],
   "source": [
    "imgs = np.stack([open_image(i) for i in images])\n",
    "imgs.shape"
   ]
  },
  {
   "cell_type": "code",
   "execution_count": null,
   "metadata": {},
   "outputs": [],
   "source": [
    "lbs = np.stack([open_image(l) for l in labels])\n",
    "lbs.shape"
   ]
  },
  {
   "cell_type": "code",
   "execution_count": null,
   "metadata": {},
   "outputs": [],
   "source": [
    "imgs = imgs/255."
   ]
  },
  {
   "cell_type": "code",
   "execution_count": null,
   "metadata": {},
   "outputs": [],
   "source": [
    "mean = imgs.mean() \n",
    "std = imgs.std()\n",
    "mean, std"
   ]
  },
  {
   "cell_type": "code",
   "execution_count": null,
   "metadata": {},
   "outputs": [],
   "source": [
    "imgs-=imgs.mean()\n",
    "imgs/=imgs.std()"
   ]
  },
  {
   "cell_type": "code",
   "execution_count": null,
   "metadata": {},
   "outputs": [],
   "source": []
  },
  {
   "cell_type": "code",
   "execution_count": null,
   "metadata": {},
   "outputs": [],
   "source": [
    "# save_array('imgs.bc', imgs)\n",
    "# save_array('lbs.bc', labels)"
   ]
  },
  {
   "cell_type": "code",
   "execution_count": null,
   "metadata": {},
   "outputs": [],
   "source": [
    "class BatchIndices(object):\n",
    "    def __init__(self, n, bs, shuffle=False):\n",
    "        self.n,self.bs,self.shuffle = n,bs,shuffle\n",
    "        self.lock = threading.Lock()\n",
    "        self.reset()\n",
    "\n",
    "    def reset(self):\n",
    "        self.idxs = (np.random.permutation(self.n) \n",
    "                     if self.shuffle else np.arange(0, self.n))\n",
    "        self.curr = 0\n",
    "\n",
    "    def __next__(self):\n",
    "        with self.lock:\n",
    "            if self.curr >= self.n: self.reset()\n",
    "            ni = min(self.bs, self.n-self.curr)\n",
    "            res = self.idxs[self.curr:self.curr+ni]\n",
    "            self.curr += ni\n",
    "            return res"
   ]
  },
  {
   "cell_type": "code",
   "execution_count": null,
   "metadata": {},
   "outputs": [],
   "source": [
    "bi = BatchIndices(10,3, True)\n",
    "[next(bi) for o in range(5)]"
   ]
  },
  {
   "cell_type": "code",
   "execution_count": null,
   "metadata": {},
   "outputs": [],
   "source": [
    "class segm_generator(object):\n",
    "    def __init__(self, x, y, bs=64, out_sz=(224,224), train=True):\n",
    "        self.x, self.y, self.bs, self.train = x,y,bs,train\n",
    "        self.n, self.ri, self.ci, _ = x.shape\n",
    "        self.idx_gen = BatchIndices(self.n, bs, train)\n",
    "        self.ro, self.co = out_sz\n",
    "        self.ych = self.y.shape[-1] if len(y.shape)==4 else 1\n",
    "\n",
    "    def get_slice(self, i,o):\n",
    "        start = random.randint(0, i-o) if self.train else (i-o)\n",
    "        return slice(start, start+o)\n",
    "\n",
    "    def get_item(self, idx):\n",
    "        slice_r = self.get_slice(self.ri, self.ro)\n",
    "        slice_c = self.get_slice(self.ci, self.co)\n",
    "        x = self.x[idx, slice_r, slice_c]\n",
    "        y = self.y[idx, slice_r, slice_c]\n",
    "        if self.train and (random.random()>0.5): \n",
    "            y = y[:,::-1]\n",
    "            x = x[:,::-1]\n",
    "        return x, y\n",
    "\n",
    "    def __next__(self):\n",
    "        idxs = next(self.idx_gen)\n",
    "        items = (self.get_item(idx) for idx in idxs)\n",
    "        xs,ys = zip(*items)\n",
    "        return np.stack(xs), np.stack(ys).reshape(len(ys), -1, self.ych)"
   ]
  },
  {
   "cell_type": "code",
   "execution_count": null,
   "metadata": {},
   "outputs": [],
   "source": [
    "sg = segm_generator(imgs, lbs, 4, train=False)\n",
    "b_img, b_label = next(sg)"
   ]
  },
  {
   "cell_type": "code",
   "execution_count": null,
   "metadata": {},
   "outputs": [],
   "source": [
    "plt.imshow(b_img[0]*0.3+0.4);"
   ]
  },
  {
   "cell_type": "code",
   "execution_count": null,
   "metadata": {},
   "outputs": [],
   "source": []
  },
  {
   "cell_type": "code",
   "execution_count": null,
   "metadata": {},
   "outputs": [],
   "source": [
    "def parse_code(l):\n",
    "    if len(l.strip().split(\"\\t\")) == 2:\n",
    "        a, b = l.strip().split(\"\\t\")\n",
    "        return tuple(int(i) for i in a.split(' ')), b\n",
    "    else:\n",
    "        a, b, c = l.strip().split(\"\\t\")\n",
    "        return tuple(int(i) for i in a.split(' ')), c"
   ]
  },
  {
   "cell_type": "code",
   "execution_count": null,
   "metadata": {},
   "outputs": [],
   "source": [
    "label_codes, label_names = zip(*[parse_code(l) for l in open(labels_path+\"label_colors.txt\")])\n",
    "label_codes, label_names = list(label_codes), list(label_names)\n",
    "label_codes[:5], label_names[:5]\n",
    "\n",
    "len(label_names)"
   ]
  },
  {
   "cell_type": "code",
   "execution_count": null,
   "metadata": {},
   "outputs": [],
   "source": [
    "label_codes, label_names"
   ]
  },
  {
   "cell_type": "code",
   "execution_count": null,
   "metadata": {},
   "outputs": [],
   "source": [
    "code2id = {v:k for k,v in enumerate(label_codes)}\n",
    "\n",
    "id2code = {k:v for k,v in enumerate(label_codes)}"
   ]
  },
  {
   "cell_type": "code",
   "execution_count": null,
   "metadata": {},
   "outputs": [],
   "source": [
    "code2id"
   ]
  },
  {
   "cell_type": "code",
   "execution_count": null,
   "metadata": {},
   "outputs": [],
   "source": [
    "failed_code = len(label_codes)+1\n",
    "failed_code"
   ]
  },
  {
   "cell_type": "code",
   "execution_count": null,
   "metadata": {},
   "outputs": [],
   "source": [
    "n,r,c,ch = imgs.shape\n",
    "n, r, c, ch"
   ]
  },
  {
   "cell_type": "code",
   "execution_count": null,
   "metadata": {},
   "outputs": [],
   "source": [
    "def conv_one_label(i): \n",
    "    res = np.zeros((r,c), 'uint8')\n",
    "    for j in range(r): \n",
    "        for k in range(c):\n",
    "            try: res[j,k] = code2id[tuple(lbs[i,j,k])]\n",
    "            except: res[j,k] = failed_code\n",
    "    return res"
   ]
  },
  {
   "cell_type": "code",
   "execution_count": null,
   "metadata": {},
   "outputs": [],
   "source": [
    "from concurrent.futures import ProcessPoolExecutor"
   ]
  },
  {
   "cell_type": "code",
   "execution_count": null,
   "metadata": {},
   "outputs": [],
   "source": [
    "def conv_all_labels():\n",
    "    ex = ProcessPoolExecutor(8)\n",
    "    return np.stack(ex.map(conv_one_label, range(n)))"
   ]
  },
  {
   "cell_type": "code",
   "execution_count": null,
   "metadata": {},
   "outputs": [],
   "source": [
    "labels_int = conv_all_labels()"
   ]
  },
  {
   "cell_type": "code",
   "execution_count": null,
   "metadata": {},
   "outputs": [],
   "source": [
    "# save_array('labels_int.bc', labels_int)"
   ]
  },
  {
   "cell_type": "code",
   "execution_count": null,
   "metadata": {},
   "outputs": [],
   "source": [
    "np.count_nonzero(labels_int==failed_code)"
   ]
  },
  {
   "cell_type": "code",
   "execution_count": null,
   "metadata": {},
   "outputs": [],
   "source": []
  },
  {
   "cell_type": "code",
   "execution_count": null,
   "metadata": {},
   "outputs": [],
   "source": [
    "l = []\n",
    "for i in range(len(labels_int)):\n",
    "    if np.count_nonzero(labels_int[i]==failed_code) > 0:\n",
    "        l.append(i)\n",
    "\n",
    "print (len(l))"
   ]
  },
  {
   "cell_type": "code",
   "execution_count": null,
   "metadata": {},
   "outputs": [],
   "source": [
    "l"
   ]
  },
  {
   "cell_type": "code",
   "execution_count": null,
   "metadata": {},
   "outputs": [],
   "source": [
    "labels_int = np.delete(labels_int, l, axis=0)\n",
    "len(labels_int)"
   ]
  },
  {
   "cell_type": "code",
   "execution_count": null,
   "metadata": {},
   "outputs": [],
   "source": [
    "labels_int.shape"
   ]
  },
  {
   "cell_type": "code",
   "execution_count": null,
   "metadata": {},
   "outputs": [],
   "source": [
    "np.count_nonzero(labels_int==failed_code)"
   ]
  },
  {
   "cell_type": "code",
   "execution_count": null,
   "metadata": {},
   "outputs": [],
   "source": [
    "imgs = np.delete(imgs, l, axis=0)\n",
    "len(imgs)"
   ]
  },
  {
   "cell_type": "code",
   "execution_count": null,
   "metadata": {},
   "outputs": [],
   "source": [
    "def color_label(a): \n",
    "    r,c=a.shape\n",
    "    res = np.zeros((r,c,3), 'uint8')\n",
    "    for j in range(r): \n",
    "        for k in range(c):\n",
    "            var = id2code[a[j,k]]\n",
    "            res[j,k] = var\n",
    "    return res"
   ]
  },
  {
   "cell_type": "code",
   "execution_count": null,
   "metadata": {},
   "outputs": [],
   "source": [
    "sg = segm_generator(imgs, lbs, 4, train=True)\n",
    "b_img, b_label = next(sg)\n",
    "plt.imshow(b_img[0]*0.3+0.4)"
   ]
  },
  {
   "cell_type": "code",
   "execution_count": null,
   "metadata": {},
   "outputs": [],
   "source": [
    "def dict_color_label(x):\n",
    "    l = [code2id[tuple(i)] for i in x]\n",
    "    l = np.array(l)\n",
    "    return l"
   ]
  },
  {
   "cell_type": "code",
   "execution_count": null,
   "metadata": {},
   "outputs": [],
   "source": [
    "temp = dict_color_label(b_label[0])\n",
    "plt.imshow(color_label(np.resize(temp, (224,224))))"
   ]
  },
  {
   "cell_type": "markdown",
   "metadata": {
    "collapsed": true
   },
   "source": [
    "## Creating Test Set"
   ]
  },
  {
   "cell_type": "code",
   "execution_count": null,
   "metadata": {},
   "outputs": [],
   "source": [
    "train_set = imgs[:46]\n",
    "train_labels = labels_int[:46]\n",
    "\n",
    "test_set = imgs[46:]\n",
    "test_labels = labels_int[46:]"
   ]
  },
  {
   "cell_type": "code",
   "execution_count": null,
   "metadata": {},
   "outputs": [],
   "source": [
    "len(train_set), len(test_set), len(train_labels), len(test_labels)"
   ]
  },
  {
   "cell_type": "code",
   "execution_count": null,
   "metadata": {},
   "outputs": [],
   "source": [
    "plt.imshow(train_set[45]*0.3+0.4)"
   ]
  },
  {
   "cell_type": "code",
   "execution_count": null,
   "metadata": {},
   "outputs": [],
   "source": [
    "plt.imshow(color_label(train_labels[45]))"
   ]
  },
  {
   "cell_type": "code",
   "execution_count": null,
   "metadata": {},
   "outputs": [],
   "source": [
    "train_labels[0].shape"
   ]
  },
  {
   "cell_type": "code",
   "execution_count": null,
   "metadata": {},
   "outputs": [],
   "source": []
  },
  {
   "cell_type": "code",
   "execution_count": null,
   "metadata": {},
   "outputs": [],
   "source": []
  },
  {
   "cell_type": "code",
   "execution_count": null,
   "metadata": {},
   "outputs": [],
   "source": []
  },
  {
   "cell_type": "code",
   "execution_count": null,
   "metadata": {},
   "outputs": [],
   "source": []
  },
  {
   "cell_type": "code",
   "execution_count": null,
   "metadata": {},
   "outputs": [],
   "source": []
  },
  {
   "cell_type": "code",
   "execution_count": null,
   "metadata": {},
   "outputs": [],
   "source": []
  },
  {
   "cell_type": "code",
   "execution_count": null,
   "metadata": {},
   "outputs": [],
   "source": [
    "train_generator = segm_generator(train_set, train_labels, 3, train=True)\n",
    "test_generator = segm_generator(test_set, test_labels, 3, train=False)"
   ]
  },
  {
   "cell_type": "code",
   "execution_count": null,
   "metadata": {},
   "outputs": [],
   "source": [
    "i,la = next(train_generator)"
   ]
  },
  {
   "cell_type": "code",
   "execution_count": null,
   "metadata": {},
   "outputs": [],
   "source": [
    "plt.imshow(i[0]*0.3+0.4)"
   ]
  },
  {
   "cell_type": "code",
   "execution_count": null,
   "metadata": {},
   "outputs": [],
   "source": [
    "# t = dict_color_label(la[0])\n",
    "plt.imshow(color_label(np.resize(la[0], (224,224))))"
   ]
  },
  {
   "cell_type": "code",
   "execution_count": null,
   "metadata": {},
   "outputs": [],
   "source": [
    "la[0].shape"
   ]
  },
  {
   "cell_type": "code",
   "execution_count": null,
   "metadata": {},
   "outputs": [],
   "source": [
    "def relu(x): return Activation('relu')(x)\n",
    "def dropout(x, p): return Dropout(p)(x) if p else x\n",
    "def bn(x): return BatchNormalization(axis=-1)(x)\n",
    "def relu_bn(x): return relu(bn(x))\n",
    "def concat(xs): return merge(xs, mode='concat', concat_axis=-1)"
   ]
  },
  {
   "cell_type": "code",
   "execution_count": null,
   "metadata": {},
   "outputs": [],
   "source": [
    "def conv(x, nf, sz, wd, p, stride=1): \n",
    "    x = Convolution2D(nf, sz, sz, init='he_uniform', border_mode='same', \n",
    "                      subsample=(stride,stride), W_regularizer=l2(wd))(x)\n",
    "    return dropout(x, p)\n",
    "\n",
    "def conv_relu_bn(x, nf, sz=3, wd=0, p=0, stride=1): \n",
    "    return conv(relu_bn(x), nf, sz, wd=wd, p=p, stride=stride)"
   ]
  },
  {
   "cell_type": "code",
   "execution_count": null,
   "metadata": {},
   "outputs": [],
   "source": [
    "def dense_block(n,x,growth_rate,p,wd):\n",
    "    added = []\n",
    "    for i in range(n):\n",
    "        b = conv_relu_bn(x, growth_rate, p=p, wd=wd)\n",
    "        x = concat([x, b])\n",
    "        added.append(b)\n",
    "    return x,added"
   ]
  },
  {
   "cell_type": "code",
   "execution_count": null,
   "metadata": {},
   "outputs": [],
   "source": [
    "def transition_dn(x, p, wd):\n",
    "#     x = conv_relu_bn(x, x.get_shape().as_list()[-1], sz=1, p=p, wd=wd)\n",
    "#     return MaxPooling2D(strides=(2, 2))(x)\n",
    "    return conv_relu_bn(x, x.get_shape().as_list()[-1], sz=1, p=p, wd=wd, stride=2)"
   ]
  },
  {
   "cell_type": "code",
   "execution_count": null,
   "metadata": {},
   "outputs": [],
   "source": [
    "def down_path(x, nb_layers, growth_rate, p, wd):\n",
    "    skips = []\n",
    "    for i,n in enumerate(nb_layers):\n",
    "        x,added = dense_block(n,x,growth_rate,p,wd)\n",
    "        skips.append(x)\n",
    "        x = transition_dn(x, p=p, wd=wd)\n",
    "    return skips, added"
   ]
  },
  {
   "cell_type": "code",
   "execution_count": null,
   "metadata": {},
   "outputs": [],
   "source": [
    "def transition_up(added, wd=0):\n",
    "    x = concat(added)\n",
    "    _,r,c,ch = x.get_shape().as_list()\n",
    "    return Deconvolution2D(ch, 3, 3, (None,r*2,c*2,ch), init='he_uniform', \n",
    "               border_mode='same', subsample=(2,2), W_regularizer=l2(wd))(x)\n",
    "#     x = UpSampling2D()(x)\n",
    "#     return conv(x, ch, 2, wd, 0)"
   ]
  },
  {
   "cell_type": "code",
   "execution_count": null,
   "metadata": {},
   "outputs": [],
   "source": [
    "def up_path(added, skips, nb_layers, growth_rate, p, wd):\n",
    "    for i,n in enumerate(nb_layers):\n",
    "        x = transition_up(added, wd)\n",
    "        x = concat([x,skips[i]])\n",
    "        x,added = dense_block(n,x,growth_rate,p,wd)\n",
    "    return x"
   ]
  },
  {
   "cell_type": "code",
   "execution_count": null,
   "metadata": {},
   "outputs": [],
   "source": [
    "def reverse(a): return list(reversed(a))"
   ]
  },
  {
   "cell_type": "code",
   "execution_count": null,
   "metadata": {},
   "outputs": [],
   "source": [
    "def create_tiramisu(nb_classes, img_input, nb_dense_block=6, \n",
    "    growth_rate=16, nb_filter=48, nb_layers_per_block=5, p=None, wd=0):\n",
    "    \n",
    "    if type(nb_layers_per_block) is list or type(nb_layers_per_block) is tuple:\n",
    "        nb_layers = list(nb_layers_per_block)\n",
    "    else: nb_layers = [nb_layers_per_block] * nb_dense_block\n",
    "\n",
    "    x = conv(img_input, nb_filter, 3, wd, 0)\n",
    "    skips,added = down_path(x, nb_layers, growth_rate, p, wd)\n",
    "    x = up_path(added, reverse(skips[:-1]), reverse(nb_layers[:-1]), growth_rate, p, wd)\n",
    "    \n",
    "    x = conv(x, nb_classes, 1, wd, 0)\n",
    "    _,r,c,f = x.get_shape().as_list()\n",
    "    x = Reshape((-1, nb_classes))(x)\n",
    "    return Activation('softmax')(x)"
   ]
  },
  {
   "cell_type": "code",
   "execution_count": null,
   "metadata": {},
   "outputs": [],
   "source": [
    "input_shape = (224,224,3)\n",
    "img_input = Input(shape=input_shape)\n",
    "x = create_tiramisu(32, img_input, nb_layers_per_block=[4,5,7,10,12,15], p=0.2, wd=1e-4)"
   ]
  },
  {
   "cell_type": "code",
   "execution_count": null,
   "metadata": {},
   "outputs": [],
   "source": [
    "model = Model(img_input, x)\n",
    "model.compile(loss='sparse_categorical_crossentropy', \n",
    "              optimizer=keras.optimizers.RMSprop(1e-3), metrics=[\"accuracy\"])"
   ]
  },
  {
   "cell_type": "markdown",
   "metadata": {
    "collapsed": true
   },
   "source": [
    "I have trained this model only for 2 epochs since I didn't have any more GPU computation time left. But you can train it for 500 epochs or so to get state of the art results. Do some finetuning(learning rate annealing also.)"
   ]
  },
  {
   "cell_type": "code",
   "execution_count": null,
   "metadata": {},
   "outputs": [],
   "source": [
    "model.fit_generator(train_generator, len(train_set), 2, verbose=2,\n",
    "                    validation_data=test_generator, nb_val_samples=len(test_set))"
   ]
  },
  {
   "cell_type": "code",
   "execution_count": null,
   "metadata": {},
   "outputs": [],
   "source": [
    "model.save_weights('../tiramisu_2_iterations.h5')"
   ]
  },
  {
   "cell_type": "code",
   "execution_count": null,
   "metadata": {},
   "outputs": [],
   "source": [
    "predictions = model.predict_generator(test_generator, len(test_set))"
   ]
  },
  {
   "cell_type": "code",
   "execution_count": null,
   "metadata": {},
   "outputs": [],
   "source": [
    "predictions = np.argmax(predictions, axis=-1)"
   ]
  },
  {
   "cell_type": "code",
   "execution_count": null,
   "metadata": {},
   "outputs": [],
   "source": [
    "predictions[0].shape"
   ]
  },
  {
   "cell_type": "code",
   "execution_count": null,
   "metadata": {},
   "outputs": [],
   "source": [
    "plt.imshow(color_label(np.resize(predictions[6], (224,224))))"
   ]
  },
  {
   "cell_type": "code",
   "execution_count": null,
   "metadata": {},
   "outputs": [],
   "source": [
    "plt.imshow(test_labels[3])"
   ]
  },
  {
   "cell_type": "code",
   "execution_count": null,
   "metadata": {},
   "outputs": [],
   "source": [
    "j, t_la = next(test_generator)"
   ]
  },
  {
   "cell_type": "code",
   "execution_count": null,
   "metadata": {},
   "outputs": [],
   "source": [
    "plt.imshow(j[0]*0.3+0.4)"
   ]
  },
  {
   "cell_type": "code",
   "execution_count": null,
   "metadata": {},
   "outputs": [],
   "source": []
  },
  {
   "cell_type": "code",
   "execution_count": null,
   "metadata": {},
   "outputs": [],
   "source": []
  },
  {
   "cell_type": "code",
   "execution_count": null,
   "metadata": {},
   "outputs": [],
   "source": []
  },
  {
   "cell_type": "code",
   "execution_count": null,
   "metadata": {},
   "outputs": [],
   "source": []
  },
  {
   "cell_type": "code",
   "execution_count": null,
   "metadata": {},
   "outputs": [],
   "source": []
  },
  {
   "cell_type": "code",
   "execution_count": null,
   "metadata": {},
   "outputs": [],
   "source": [
    "try_image = np.array(Image.open('Seq05VD_f05100.png').resize((224,224), Image.NEAREST))\n",
    "try_image = try_image/255.\n",
    "try_image-=mean\n",
    "try_image/=std\n",
    "try_image.shape"
   ]
  },
  {
   "cell_type": "code",
   "execution_count": null,
   "metadata": {},
   "outputs": [],
   "source": [
    "try_preds = model.predict(np.expand_dims(try_image, 0), 1)"
   ]
  },
  {
   "cell_type": "code",
   "execution_count": null,
   "metadata": {},
   "outputs": [],
   "source": [
    "try_preds = np.argmax(try_preds, axis=-1)\n",
    "try_preds.shape"
   ]
  },
  {
   "cell_type": "code",
   "execution_count": null,
   "metadata": {},
   "outputs": [],
   "source": [
    "plt.imshow(color_label(np.resize(try_preds[0], (224,224))))"
   ]
  },
  {
   "cell_type": "code",
   "execution_count": null,
   "metadata": {
    "scrolled": false
   },
   "outputs": [],
   "source": []
  },
  {
   "cell_type": "code",
   "execution_count": null,
   "metadata": {},
   "outputs": [],
   "source": []
  },
  {
   "cell_type": "code",
   "execution_count": null,
   "metadata": {},
   "outputs": [],
   "source": []
  },
  {
   "cell_type": "code",
   "execution_count": null,
   "metadata": {},
   "outputs": [],
   "source": [
    "try_img = np.array(Image.open('Seq05VD_f05100.png').resize(image_size, Image.NEAREST))\n",
    "try_img = try_img/255.\n",
    "try_img-=mean\n",
    "try_img/=std"
   ]
  },
  {
   "cell_type": "code",
   "execution_count": null,
   "metadata": {},
   "outputs": [],
   "source": [
    "try_label = np.array(Image.open('Seq05VD_f05100_L.png').resize(image_size, Image.NEAREST))"
   ]
  },
  {
   "cell_type": "code",
   "execution_count": null,
   "metadata": {},
   "outputs": [],
   "source": [
    "try_gen = segm_generator(np.expand_dims(try_img, 0), np.expand_dims(try_img, 0), 1, train=False)"
   ]
  },
  {
   "cell_type": "code",
   "execution_count": null,
   "metadata": {},
   "outputs": [],
   "source": [
    "prd = model.predict_generator(try_gen, 1)"
   ]
  },
  {
   "cell_type": "code",
   "execution_count": null,
   "metadata": {},
   "outputs": [],
   "source": [
    "prd = np.argmax(prd, axis=-1)"
   ]
  },
  {
   "cell_type": "code",
   "execution_count": null,
   "metadata": {},
   "outputs": [],
   "source": [
    "prd.shape"
   ]
  },
  {
   "cell_type": "code",
   "execution_count": null,
   "metadata": {},
   "outputs": [],
   "source": [
    "plt.imshow(color_label(np.resize(prd[0], (224,224))))"
   ]
  },
  {
   "cell_type": "code",
   "execution_count": null,
   "metadata": {},
   "outputs": [],
   "source": []
  }
 ],
 "metadata": {
  "anaconda-cloud": {},
  "kernelspec": {
   "display_name": "Python 3",
   "language": "python",
   "name": "python3"
  },
  "language_info": {
   "codemirror_mode": {
    "name": "ipython",
    "version": 3
   },
   "file_extension": ".py",
   "mimetype": "text/x-python",
   "name": "python",
   "nbconvert_exporter": "python",
   "pygments_lexer": "ipython3",
   "version": "3.6.4"
  }
 },
 "nbformat": 4,
 "nbformat_minor": 1
}
